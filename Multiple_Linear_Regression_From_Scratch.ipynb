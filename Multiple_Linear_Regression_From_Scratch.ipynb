{
 "cells": [
  {
   "cell_type": "code",
   "execution_count": 3,
   "metadata": {},
   "outputs": [],
   "source": [
    "import pandas as pd\n",
    "import numpy as np \n",
    "from sklearn.model_selection import train_test_split as tts\n",
    "from sklearn.linear_model import LinearRegression as lrg\n",
    "from sklearn.metrics import r2_score as r2\n",
    "from sklearn.datasets import load_diabetes # Using a built in dataset (this is actually a function)"
   ]
  },
  {
   "cell_type": "code",
   "execution_count": 4,
   "metadata": {},
   "outputs": [
    {
     "name": "stdout",
     "output_type": "stream",
     "text": [
      "(442, 10)\n",
      "--------------------------------------------------------------------------------------------------------------------------------------------------------------\n",
      "(442,)\n"
     ]
    }
   ],
   "source": [
    "# Brief glimpse into the dataset\n",
    "x,y = load_diabetes(return_X_y=True) # Scikit learn knows what parts we need and gives us the input and output\n",
    "print(x.shape)\n",
    "print(\"--------------------------------------------------------------------------------------------------------------------------------------------------------------\")\n",
    "print(y.shape)"
   ]
  },
  {
   "cell_type": "code",
   "execution_count": 5,
   "metadata": {},
   "outputs": [],
   "source": [
    "x_train,x_test,y_train,y_test = tts(x,y,test_size=0.2,random_state=2)"
   ]
  },
  {
   "cell_type": "code",
   "execution_count": 6,
   "metadata": {},
   "outputs": [
    {
     "name": "stdout",
     "output_type": "stream",
     "text": [
      "0.4399338661568968\n",
      "[  -9.15865318 -205.45432163  516.69374454  340.61999905 -895.5520019\n",
      "  561.22067904  153.89310954  126.73139688  861.12700152   52.42112238]\n",
      "151.88331005254167\n"
     ]
    }
   ],
   "source": [
    "# Using libraries to apply regression\n",
    "mpl_using_skl = lrg() # Declared a linear regression object\n",
    "mpl_using_skl.fit(x_train,y_train) # Training model\n",
    "y_pred = mpl_using_skl.predict(x_test) # Predicting\n",
    "print(r2(y_test,y_pred)) # Viewing R2 score\n",
    "print(mpl_using_skl.coef_) # Viewing coefficients\n",
    "print(mpl_using_skl.intercept_) # Viewing intercept value\n",
    "a = r2(y_test,y_pred) # Stroing R2 score for later comparison"
   ]
  },
  {
   "cell_type": "code",
   "execution_count": 7,
   "metadata": {},
   "outputs": [],
   "source": [
    "# Creating multiple linear regression from scratch"
   ]
  },
  {
   "cell_type": "code",
   "execution_count": 16,
   "metadata": {},
   "outputs": [],
   "source": [
    "class MyMpl:\n",
    "    def __init__(self):\n",
    "        self.coef = None\n",
    "        self.intercept = None\n",
    "    def train(self,xt,yt):\n",
    "        yt = yt.reshape(-1, 1)\n",
    "        np.insert(xt,0,1,axis=1)\n",
    "        '''\n",
    "        Our x train doesn't have all 1s in the first column so we are using a numpy function to do it\n",
    "        the function is np.insert(<array_name>,<index>,<value>,axis=<1 for column, 0 for rows>)\n",
    "\n",
    "        '''\n",
    "        x_T_dot_x_whole_inv = np.linalg.inv(np.dot(xt.T,xt))\n",
    "        uppperOne_dot_x_T_dot_y = np.dot(np.dot(x_T_dot_x_whole_inv,x.T),yt)\n",
    "        self.intercept = uppperOne_dot_x_T_dot_y[0]\n",
    "        self.coef = uppperOne_dot_x_T_dot_y[1:]        \n",
    "    def predict(self,xtst):\n",
    "        y_pred = np.dot(xtst,self.coef) + self.intercept       "
   ]
  },
  {
   "cell_type": "code",
   "execution_count": 19,
   "metadata": {},
   "outputs": [],
   "source": [
    "class MyMpl2:\n",
    "    \n",
    "    def __init__(self):\n",
    "        self.coef_ = None\n",
    "        self.intercept_ = None\n",
    "        \n",
    "    def train(self,X_train,y_train):\n",
    "        X_train = np.insert(X_train,0,1,axis=1)\n",
    "        \n",
    "        # calcuate the coeffs\n",
    "        betas = np.linalg.inv(np.dot(X_train.T,X_train)).dot(X_train.T).dot(y_train)\n",
    "        self.intercept_ = betas[0]\n",
    "        self.coef_ = betas[1:]\n",
    "    \n",
    "    def predict(self,X_test):\n",
    "        y_pred = np.dot(X_test,self.coef_) + self.intercept_\n",
    "        return y_pred"
   ]
  },
  {
   "cell_type": "code",
   "execution_count": 21,
   "metadata": {},
   "outputs": [
    {
     "name": "stdout",
     "output_type": "stream",
     "text": [
      "[154.1213881  204.81835118 124.93755353 106.08950893 258.5348576\n",
      " 256.3310074  118.75087616 119.52440696 101.50816735 190.54048661\n",
      " 141.70656811 172.51883961 174.33861649 134.80942706 294.13994537\n",
      "  94.11798038 211.97059795 156.49579378 134.21000428 119.62664644\n",
      " 148.87842251 165.00873409 151.10021038 176.04063756 133.27769647\n",
      " 221.29555392 197.17324941  96.1577688   50.26012711 230.48580317\n",
      " 242.06073866 114.11129218  67.07532417  94.52943825 201.21415375\n",
      " 167.05136201 159.881268   192.78746659 114.49551325 233.48234551\n",
      " 140.82563045 121.0680409  192.27480772 191.12738845 179.16865788\n",
      " 148.34935601 163.47414622 276.81647884 100.17926432 164.10555298\n",
      " 255.80762189 136.9466204  152.37503699 107.92237882 194.21924678\n",
      "  77.34670792 118.50482479  68.38335763 154.29258529 162.48840259\n",
      " 168.36788326 156.87790322  97.14191797 238.1671215  145.46179904\n",
      " 117.65702433 168.88784311 198.38683887 118.24053714 124.64552812\n",
      " 223.17700368 200.63012386 129.54414666 158.1584765  154.332565\n",
      " 114.47070769  70.44906407  76.3973879  172.41584591  80.56270077\n",
      "  80.2722834   89.46150248 186.21572052 275.46275403 208.26784222\n",
      " 143.79451509 291.28766846 206.32474844  94.22935404]\n"
     ]
    }
   ],
   "source": [
    "my_mpl = MyMpl2()\n",
    "my_mpl.train(x_train,y_train)\n",
    "print(my_mpl.predict(x_test))"
   ]
  },
  {
   "cell_type": "code",
   "execution_count": 27,
   "metadata": {},
   "outputs": [
    {
     "name": "stdout",
     "output_type": "stream",
     "text": [
      "0.4399338661568968\n",
      "0.43993386615689634\n"
     ]
    }
   ],
   "source": [
    "b=r2(y_test, my_mpl.predict(x_test))\n",
    "print(a)\n",
    "print(b)"
   ]
  },
  {
   "cell_type": "code",
   "execution_count": 24,
   "metadata": {},
   "outputs": [
    {
     "name": "stdout",
     "output_type": "stream",
     "text": [
      "R2 of Scikit:R2 of mine = 1.000000000000001\n"
     ]
    }
   ],
   "source": [
    "print(f\"R2 of Scikit:R2 of mine = {a/b}\")"
   ]
  }
 ],
 "metadata": {
  "kernelspec": {
   "display_name": "Python 3",
   "language": "python",
   "name": "python3"
  },
  "language_info": {
   "codemirror_mode": {
    "name": "ipython",
    "version": 3
   },
   "file_extension": ".py",
   "mimetype": "text/x-python",
   "name": "python",
   "nbconvert_exporter": "python",
   "pygments_lexer": "ipython3",
   "version": "3.10.12"
  }
 },
 "nbformat": 4,
 "nbformat_minor": 2
}
