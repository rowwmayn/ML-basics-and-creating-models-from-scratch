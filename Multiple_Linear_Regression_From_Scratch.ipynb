{
 "cells": [
  {
   "cell_type": "code",
   "execution_count": 13,
   "metadata": {},
   "outputs": [],
   "source": [
    "import pandas as pd\n",
    "import numpy as np \n",
    "from sklearn.model_selection import train_test_split as tts\n",
    "from sklearn.linear_model import LinearRegression as lrg\n",
    "from sklearn.metrics import r2_score as r2\n",
    "from sklearn.datasets import load_diabetes # Using a built in dataset (this is actually a function)"
   ]
  },
  {
   "cell_type": "code",
   "execution_count": 6,
   "metadata": {},
   "outputs": [
    {
     "name": "stdout",
     "output_type": "stream",
     "text": [
      "(442, 10)\n",
      "--------------------------------------------------------------------------------------------------------------------------------------------------------------\n",
      "(442,)\n"
     ]
    }
   ],
   "source": [
    "# Brief glimpse into the dataset\n",
    "x,y = load_diabetes(return_X_y=True) # Scikit learn knows what parts we need and gives us the input and output\n",
    "print(x.shape)\n",
    "print(\"--------------------------------------------------------------------------------------------------------------------------------------------------------------\")\n",
    "print(y.shape)"
   ]
  },
  {
   "cell_type": "code",
   "execution_count": 7,
   "metadata": {},
   "outputs": [],
   "source": [
    "x_train,x_test,y_train,y_test = tts(x,y,test_size=0.2,random_state=2)"
   ]
  },
  {
   "cell_type": "code",
   "execution_count": 20,
   "metadata": {},
   "outputs": [
    {
     "name": "stdout",
     "output_type": "stream",
     "text": [
      "0.4399338661568968\n",
      "[  -9.15865318 -205.45432163  516.69374454  340.61999905 -895.5520019\n",
      "  561.22067904  153.89310954  126.73139688  861.12700152   52.42112238]\n",
      "151.88331005254167\n"
     ]
    }
   ],
   "source": [
    "# Using libraries to apply regression\n",
    "mpl_using_skl = lrg() # Declared a linear regression object\n",
    "mpl_using_skl.fit(x_train,y_train) # Training model\n",
    "y_pred = mpl_using_skl.predict(x_test) # Predicting\n",
    "print(r2(y_test,y_pred)) # Viewing R2 score\n",
    "print(mpl_using_skl.coef_) # Viewing coefficients\n",
    "print(mpl_using_skl.intercept_) # Viewing intercept value\n",
    "a = r2(y_test,y_pred) # Stroing R2 score for later comparison"
   ]
  },
  {
   "cell_type": "code",
   "execution_count": 21,
   "metadata": {},
   "outputs": [],
   "source": [
    "# Creating multiple linear regression from scratch"
   ]
  },
  {
   "cell_type": "code",
   "execution_count": null,
   "metadata": {},
   "outputs": [],
   "source": [
    "class MyMpl:\n",
    "    def __init__(self):\n",
    "        self.coef = None\n",
    "        self.intercept = None"
   ]
  }
 ],
 "metadata": {
  "kernelspec": {
   "display_name": "Python 3",
   "language": "python",
   "name": "python3"
  },
  "language_info": {
   "codemirror_mode": {
    "name": "ipython",
    "version": 3
   },
   "file_extension": ".py",
   "mimetype": "text/x-python",
   "name": "python",
   "nbconvert_exporter": "python",
   "pygments_lexer": "ipython3",
   "version": "3.10.12"
  }
 },
 "nbformat": 4,
 "nbformat_minor": 2
}
