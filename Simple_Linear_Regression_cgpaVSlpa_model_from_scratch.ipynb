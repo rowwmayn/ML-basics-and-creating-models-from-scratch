{
 "cells": [
  {
   "cell_type": "code",
   "execution_count": 1,
   "metadata": {
    "id": "jhGfACwroV2J"
   },
   "outputs": [],
   "source": [
    "import pandas as pd\n",
    "import numpy as np\n",
    "from sklearn.model_selection import train_test_split as tts"
   ]
  },
  {
   "cell_type": "code",
   "execution_count": 2,
   "metadata": {
    "id": "i3cyyEOP5DQN"
   },
   "outputs": [],
   "source": [
    "class MyLR:\n",
    "    def __init__(self):\n",
    "        self.m = None\n",
    "        self.b = None\n",
    "\n",
    "    def fit(self, x_train, y_train):\n",
    "        nume = 0\n",
    "        deno = 0\n",
    "        for i in range(x_train.shape[0]):\n",
    "            nume += (x_train[i] - x_train.mean()) * (y_train[i] - y_train.mean())\n",
    "            deno += (x_train[i] - x_train.mean()) ** 2\n",
    "        self.m = nume / deno\n",
    "        self.b = y_train.mean() - (self.m * x_train.mean())\n",
    "\n",
    "    def predict(self, x_test):\n",
    "        return self.m * x_test + self.b  # Linear regression formula: y = mx + b\n"
   ]
  },
  {
   "cell_type": "code",
   "execution_count": 3,
   "metadata": {
    "id": "l5AWwBWa5Fkw"
   },
   "outputs": [],
   "source": [
    "df = pd.read_csv(\"placement.csv\")"
   ]
  },
  {
   "cell_type": "code",
   "execution_count": 4,
   "metadata": {
    "id": "aTmXYryb5MOT"
   },
   "outputs": [],
   "source": [
    "x = df.iloc[:,0].values # So I get numpy values\n",
    "y = df.iloc[:,1].values"
   ]
  },
  {
   "cell_type": "code",
   "execution_count": 5,
   "metadata": {
    "id": "EhLWVbYP5OEs"
   },
   "outputs": [],
   "source": [
    "train_x, test_x, train_y, test_y = tts(x,y,test_size=0.2,random_state=2)"
   ]
  },
  {
   "cell_type": "code",
   "execution_count": 6,
   "metadata": {
    "id": "VYgMe4675Re-"
   },
   "outputs": [],
   "source": [
    "lr1 = MyLR()"
   ]
  },
  {
   "cell_type": "code",
   "execution_count": 8,
   "metadata": {
    "id": "dqCHOENH5T5L"
   },
   "outputs": [],
   "source": [
    "lr1.fit(train_x,train_y)"
   ]
  },
  {
   "cell_type": "code",
   "execution_count": 10,
   "metadata": {
    "colab": {
     "base_uri": "https://localhost:8080/"
    },
    "id": "G_Y6DNwk5hFr",
    "outputId": "1de69cec-368e-40d7-fff9-dca576d5c61f"
   },
   "outputs": [
    {
     "data": {
      "text/plain": [
       "3.891116009744203"
      ]
     },
     "execution_count": 10,
     "metadata": {},
     "output_type": "execute_result"
    }
   ],
   "source": [
    "lr1.predict(test_x[0])"
   ]
  },
  {
   "cell_type": "code",
   "execution_count": null,
   "metadata": {},
   "outputs": [],
   "source": []
  }
 ],
 "metadata": {
  "colab": {
   "provenance": []
  },
  "kernelspec": {
   "display_name": "Python 3",
   "name": "python3"
  },
  "language_info": {
   "name": "python",
   "version": "3.10.12"
  }
 },
 "nbformat": 4,
 "nbformat_minor": 0
}
