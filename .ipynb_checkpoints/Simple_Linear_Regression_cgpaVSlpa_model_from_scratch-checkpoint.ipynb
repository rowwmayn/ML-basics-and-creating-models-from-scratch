{
  "nbformat": 4,
  "nbformat_minor": 0,
  "metadata": {
    "colab": {
      "provenance": []
    },
    "kernelspec": {
      "name": "python3",
      "display_name": "Python 3"
    },
    "language_info": {
      "name": "python"
    }
  },
  "cells": [
    {
      "cell_type": "code",
      "execution_count": 1,
      "metadata": {
        "id": "jhGfACwroV2J"
      },
      "outputs": [],
      "source": [
        "import pandas as pd\n",
        "import numpy as np\n",
        "from sklearn.model_selection import train_test_split as tts"
      ]
    },
    {
      "cell_type": "code",
      "source": [
        "class MyLR:\n",
        "    def __init__(self):\n",
        "        self.m = None\n",
        "        self.b = None\n",
        "\n",
        "    def fit(self, x_train, y_train):\n",
        "        nume = 0\n",
        "        deno = 0\n",
        "        for i in range(x_train.shape[0]):\n",
        "            nume += (x_train[i] - x_train.mean()) * (y_train[i] - y_train.mean())\n",
        "            deno += (x_train[i] - x_train.mean()) ** 2\n",
        "        self.m = nume / deno\n",
        "        self.b = y_train.mean() - (self.m * x_train.mean())\n",
        "\n",
        "    def predict(self, x_test):\n",
        "        return self.m * x_test + self.b  # Linear regression formula: y = mx + b\n"
      ],
      "metadata": {
        "id": "i3cyyEOP5DQN"
      },
      "execution_count": 2,
      "outputs": []
    },
    {
      "cell_type": "code",
      "source": [
        "df = pd.read_csv(\"placement.csv\")"
      ],
      "metadata": {
        "id": "l5AWwBWa5Fkw"
      },
      "execution_count": 3,
      "outputs": []
    },
    {
      "cell_type": "code",
      "source": [
        "x = df.iloc[:,0].values # So I get numpy values\n",
        "y = df.iloc[:,1].values"
      ],
      "metadata": {
        "id": "aTmXYryb5MOT"
      },
      "execution_count": 4,
      "outputs": []
    },
    {
      "cell_type": "code",
      "source": [
        "train_x, test_x, train_y, test_y = tts(x,y,test_size=0.2,random_state=2)"
      ],
      "metadata": {
        "id": "EhLWVbYP5OEs"
      },
      "execution_count": 5,
      "outputs": []
    },
    {
      "cell_type": "code",
      "source": [
        "lr1 = MyLR()"
      ],
      "metadata": {
        "id": "VYgMe4675Re-"
      },
      "execution_count": 6,
      "outputs": []
    },
    {
      "cell_type": "code",
      "source": [
        "lr1.fit(train_x,train_y)"
      ],
      "metadata": {
        "id": "dqCHOENH5T5L"
      },
      "execution_count": 8,
      "outputs": []
    },
    {
      "cell_type": "code",
      "source": [
        "lr1.predict(test_x[0])"
      ],
      "metadata": {
        "colab": {
          "base_uri": "https://localhost:8080/"
        },
        "id": "G_Y6DNwk5hFr",
        "outputId": "1de69cec-368e-40d7-fff9-dca576d5c61f"
      },
      "execution_count": 10,
      "outputs": [
        {
          "output_type": "execute_result",
          "data": {
            "text/plain": [
              "3.891116009744203"
            ]
          },
          "metadata": {},
          "execution_count": 10
        }
      ]
    }
  ]
}